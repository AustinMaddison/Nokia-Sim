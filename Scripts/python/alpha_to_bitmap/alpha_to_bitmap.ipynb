{
 "cells": [
  {
   "cell_type": "code",
   "execution_count": 2,
   "metadata": {},
   "outputs": [],
   "source": [
    "import os\n",
    "from PIL import Image\n",
    "import numpy as np\n",
    "import matplotlib.pyplot as plt"
   ]
  },
  {
   "cell_type": "code",
   "execution_count": 41,
   "metadata": {},
   "outputs": [],
   "source": [
    "in_dir = 'input'\n",
    "out_dir = 'output'"
   ]
  },
  {
   "cell_type": "code",
   "execution_count": null,
   "metadata": {},
   "outputs": [],
   "source": [
    "for image_path in os.listdir(in_dir):\n",
    "    if image_path.endswith('.png'):\n",
    "        \n",
    "        # read image\n",
    "        image = Image.open(os.path.join(in_dir, image_path))\n",
    "        image = np.array(image)\n",
    "\n",
    "        # # extract alpha\n",
    "        alpha = image[:, :, 3]\n",
    "        image = Image.fromarray(alpha).convert('1')\n",
    "        \n",
    "        # save \n",
    "        image.save(os.path.join(out_dir, image_path))"
   ]
  }
 ],
 "metadata": {
  "kernelspec": {
   "display_name": "base",
   "language": "python",
   "name": "python3"
  },
  "language_info": {
   "codemirror_mode": {
    "name": "ipython",
    "version": 3
   },
   "file_extension": ".py",
   "mimetype": "text/x-python",
   "name": "python",
   "nbconvert_exporter": "python",
   "pygments_lexer": "ipython3",
   "version": "3.11.7"
  }
 },
 "nbformat": 4,
 "nbformat_minor": 2
}
